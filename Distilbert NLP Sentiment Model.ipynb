{
 "cells": [
  {
   "cell_type": "markdown",
   "id": "ddf3a89c",
   "metadata": {},
   "source": [
    "## Distilbert NLP Sentiment Model\n",
    "#### Powered by pre-trained distilbert-base-uncased-finetuned-sst-2-english model from Hugging Face. Cleaned text data is inputted to generate sentiment labels (Positive or Negative) on each text item and its score (how confident is the model about its prediction)"
   ]
  },
  {
   "cell_type": "markdown",
   "id": "139b5bac",
   "metadata": {},
   "source": [
    "#### Importing packages and data"
   ]
  },
  {
   "cell_type": "code",
   "execution_count": null,
   "id": "9c1d8a88",
   "metadata": {},
   "outputs": [],
   "source": [
    "from transformers import pipeline"
   ]
  },
  {
   "cell_type": "code",
   "execution_count": null,
   "id": "df8e1e48",
   "metadata": {},
   "outputs": [],
   "source": [
    "# Load the dataset here\n",
    "data=pd.read_csv(\"data location.csv\")\n",
    "data['comment'] = data['comment'].astype(str)"
   ]
  },
  {
   "cell_type": "markdown",
   "id": "ff07d138",
   "metadata": {},
   "source": [
    "#### Defining the NLP Distilbert scoring model"
   ]
  },
  {
   "cell_type": "code",
   "execution_count": null,
   "id": "9870551f",
   "metadata": {},
   "outputs": [],
   "source": [
    "def classifier_model(df):\n",
    "    labels=[]\n",
    "    scores=[]\n",
    "    classifier = pipeline(\"sentiment-analysis\")\n",
    "    for i in df[\"comment\"]:\n",
    "        #print(i)\n",
    "        labels.append(classifier(i)[0][\"label\"])\n",
    "        scores.append(classifier(i)[0][\"score\"])\n",
    "    df[\"labels\"]=labels\n",
    "    df[\"scores\"]=scores"
   ]
  },
  {
   "cell_type": "markdown",
   "id": "5462f4b4",
   "metadata": {},
   "source": [
    "#### Running the model on the text data"
   ]
  },
  {
   "cell_type": "code",
   "execution_count": null,
   "id": "80193c0f",
   "metadata": {},
   "outputs": [],
   "source": [
    "classifier_model(data)"
   ]
  },
  {
   "cell_type": "code",
   "execution_count": null,
   "id": "d5b39b1d",
   "metadata": {},
   "outputs": [],
   "source": [
    "data"
   ]
  },
  {
   "cell_type": "code",
   "execution_count": null,
   "id": "9da3e314",
   "metadata": {},
   "outputs": [],
   "source": [
    "data.drop(columns=[\"Unnamed: 0\",\"Unnamed: 0.1\"],inplace=True)"
   ]
  },
  {
   "cell_type": "code",
   "execution_count": null,
   "id": "710d0367",
   "metadata": {},
   "outputs": [],
   "source": [
    "data=data[data[\"comment\"]!=\"nan\"]"
   ]
  },
  {
   "cell_type": "code",
   "execution_count": null,
   "id": "9f5d1cba",
   "metadata": {},
   "outputs": [],
   "source": [
    "data.to_csv(\"data_scored.csv\")"
   ]
  }
 ],
 "metadata": {
  "kernelspec": {
   "display_name": "Python 3",
   "language": "python",
   "name": "python3"
  },
  "language_info": {
   "codemirror_mode": {
    "name": "ipython",
    "version": 3
   },
   "file_extension": ".py",
   "mimetype": "text/x-python",
   "name": "python",
   "nbconvert_exporter": "python",
   "pygments_lexer": "ipython3",
   "version": "3.8.8"
  }
 },
 "nbformat": 4,
 "nbformat_minor": 5
}
