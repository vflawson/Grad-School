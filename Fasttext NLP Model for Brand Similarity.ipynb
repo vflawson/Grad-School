{
 "cells": [
  {
   "cell_type": "markdown",
   "id": "99434aed",
   "metadata": {},
   "source": [
    "#### In order to find the main competitors of Toyota, I leveraged a Fasttext model of general web scraped data of 1 million words. This dataset was created in 2017"
   ]
  },
  {
   "cell_type": "markdown",
   "id": "227d5a9c",
   "metadata": {},
   "source": [
    "#### Importing NLP packages"
   ]
  },
  {
   "cell_type": "code",
   "execution_count": null,
   "id": "c29d19ba",
   "metadata": {},
   "outputs": [],
   "source": [
    "from gensim.models import Word2Vec\n",
    "from gensim.models import KeyedVectors\n",
    "import numpy as np"
   ]
  },
  {
   "cell_type": "markdown",
   "id": "f546d254",
   "metadata": {},
   "source": [
    "#### Creating Keyed Vectors NLP Model on Fasttext data "
   ]
  },
  {
   "cell_type": "code",
   "execution_count": null,
   "id": "dbd29c64",
   "metadata": {},
   "outputs": [],
   "source": [
    "# Creating the model\n",
    "path_to_fasttext_model = r'C:\\filelocation'\n",
    "model_fasttext = KeyedVectors.load_word2vec_format(path_to_fasttext_model)\n",
    "print(\"loaded model\")"
   ]
  },
  {
   "cell_type": "markdown",
   "id": "924a7956",
   "metadata": {},
   "source": [
    "#### Testing for keyword similarity to understand public association between brands "
   ]
  },
  {
   "cell_type": "code",
   "execution_count": null,
   "id": "b7055626",
   "metadata": {},
   "outputs": [],
   "source": [
    "for similar_word in model_fasttext.similar_by_word('Toyota'):\n",
    "    print(\"Word: {0}, Similarity: {1:.2f}\".format(\n",
    "        similar_word[0], similar_word[1]\n",
    "    ))"
   ]
  },
  {
   "cell_type": "markdown",
   "id": "5681f690",
   "metadata": {},
   "source": [
    "According to the model, Honda and Nissan are Toyota's main competitors in the public mind"
   ]
  }
 ],
 "metadata": {
  "kernelspec": {
   "display_name": "Python 3",
   "language": "python",
   "name": "python3"
  },
  "language_info": {
   "codemirror_mode": {
    "name": "ipython",
    "version": 3
   },
   "file_extension": ".py",
   "mimetype": "text/x-python",
   "name": "python",
   "nbconvert_exporter": "python",
   "pygments_lexer": "ipython3",
   "version": "3.8.8"
  }
 },
 "nbformat": 4,
 "nbformat_minor": 5
}
